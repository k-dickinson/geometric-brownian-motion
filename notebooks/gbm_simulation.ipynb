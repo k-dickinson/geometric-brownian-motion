{
 "cells": [
  {
   "cell_type": "code",
   "execution_count": 2,
   "id": "import-cell",
   "metadata": {},
   "outputs": [],
   "source": [
    "%matplotlib inline\n",
    "import numpy as np\n",
    "import matplotlib.pyplot as plt\n",
    "import yfinance as yf"
   ]
  },
  {
   "cell_type": "code",
   "execution_count": null,
   "id": "b3a1afe3-8489-4825-bbc1-0adb3585aa33",
   "metadata": {},
   "outputs": [],
   "source": [
    "ticker = yf.Ticker(\"SPY\")\n",
    "latest = ticker.history(period=\"1d\")\n",
    "latest_close = latest['Close'].iloc[-1]\n",
    "print(f\"Latest SPY close: {latest_close:.2f}\")"
   ]
  },
  {
   "cell_type": "code",
   "execution_count": null,
   "id": "simulate-gbm",
   "metadata": {},
   "outputs": [],
   "source": [
    "# Parameters\n",
    "S0 = latest_close\n",
    "mu = 0.10\n",
    "sigma = 0.1123\n",
    "T = 1\n",
    "N = 252\n",
    "dt = T / N\n",
    "\n",
    "Z = np.random.normal(0, 1, N)\n",
    "S = np.zeros(N)\n",
    "S[0] = S0\n",
    "for t in range(1, N):\n",
    "    S[t] = S[t-1] * np.exp((mu - 0.5 * sigma**2)*dt + sigma*np.sqrt(dt)*Z[t])"
   ]
  },
  {
   "cell_type": "code",
   "execution_count": null,
   "id": "plot-output",
   "metadata": {},
   "outputs": [],
   "source": [
    "plt.plot(S)\n",
    "plt.title(\"Simulated Stock Price Using GBM\")\n",
    "plt.xlabel(\"Day\")\n",
    "plt.ylabel(\"Price\")\n",
    "plt.grid(True)\n",
    "plt.show()"
   ]
  }
 ],
 "metadata": {
  "kernelspec": {
   "display_name": "Python (GBM Sim)",
   "language": "python",
   "name": "gbm-sim"
  },
  "language_info": {
   "codemirror_mode": {
    "name": "ipython",
    "version": 3
   },
   "file_extension": ".py",
   "mimetype": "text/x-python",
   "name": "python",
   "nbconvert_exporter": "python",
   "pygments_lexer": "ipython3",
   "version": "3.12.9"
  }
 },
 "nbformat": 4,
 "nbformat_minor": 5
}
